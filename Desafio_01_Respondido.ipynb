{
  "nbformat": 4,
  "nbformat_minor": 0,
  "metadata": {
    "anaconda-cloud": {},
    "colab": {
      "name": "Desafio_01_Respondido.ipynb",
      "provenance": [],
      "include_colab_link": true
    },
    "kernelspec": {
      "display_name": "Python 3",
      "language": "python",
      "name": "python3"
    },
    "language_info": {
      "codemirror_mode": {
        "name": "ipython",
        "version": 3
      },
      "file_extension": ".py",
      "mimetype": "text/x-python",
      "name": "python",
      "nbconvert_exporter": "python",
      "pygments_lexer": "ipython3",
      "version": "3.7.9"
    }
  },
  "cells": [
    {
      "cell_type": "markdown",
      "metadata": {
        "id": "view-in-github",
        "colab_type": "text"
      },
      "source": [
        "<a href=\"https://colab.research.google.com/github/wemersonferreirasv/br-python-challenges/blob/master/Desafio_01_Respondido.ipynb\" target=\"_parent\"><img src=\"https://colab.research.google.com/assets/colab-badge.svg\" alt=\"Open In Colab\"/></a>"
      ]
    },
    {
      "cell_type": "markdown",
      "metadata": {
        "id": "SbLLE9q1eldC"
      },
      "source": [
        "### Desafio 1\n",
        "\n",
        "Escreva um programa em Python para contabilizar a quantidade de ocorrências de cada palavra."
      ]
    },
    {
      "cell_type": "code",
      "metadata": {
        "id": "WhtbdwFseldD"
      },
      "source": [
        "palavras = [\n",
        "   'red', 'green', 'black', 'pink', 'black', 'white', 'black', 'eyes',\n",
        "   'white', 'black', 'orange', 'pink', 'pink', 'red', 'red', 'white', 'orange',\n",
        "   'white', \"black\", 'pink', 'green', 'green', 'pink', 'green', 'pink',\n",
        "   'white', 'orange', \"orange\", 'red'\n",
        "]\n",
        "\n",
        "\n",
        "# Seu código"
      ],
      "execution_count": 2,
      "outputs": []
    },
    {
      "cell_type": "code",
      "metadata": {
        "colab": {
          "base_uri": "https://localhost:8080/"
        },
        "id": "M58o1U9KfAxa",
        "outputId": "995b4323-63aa-4c91-d55a-24e6ebb25b09"
      },
      "source": [
        "palavras"
      ],
      "execution_count": 3,
      "outputs": [
        {
          "output_type": "execute_result",
          "data": {
            "text/plain": [
              "['red',\n",
              " 'green',\n",
              " 'black',\n",
              " 'pink',\n",
              " 'black',\n",
              " 'white',\n",
              " 'black',\n",
              " 'eyes',\n",
              " 'white',\n",
              " 'black',\n",
              " 'orange',\n",
              " 'pink',\n",
              " 'pink',\n",
              " 'red',\n",
              " 'red',\n",
              " 'white',\n",
              " 'orange',\n",
              " 'white',\n",
              " 'black',\n",
              " 'pink',\n",
              " 'green',\n",
              " 'green',\n",
              " 'pink',\n",
              " 'green',\n",
              " 'pink',\n",
              " 'white',\n",
              " 'orange',\n",
              " 'orange',\n",
              " 'red']"
            ]
          },
          "metadata": {
            "tags": []
          },
          "execution_count": 3
        }
      ]
    },
    {
      "cell_type": "code",
      "metadata": {
        "colab": {
          "base_uri": "https://localhost:8080/"
        },
        "id": "EwY5BMx_FabO",
        "outputId": "cb1629f5-bfba-46a0-d05c-dd9fb20aea5d"
      },
      "source": [
        "palavras_dic = list (dict.fromkeys (palavras))\n",
        "palavras_dic"
      ],
      "execution_count": 6,
      "outputs": [
        {
          "output_type": "execute_result",
          "data": {
            "text/plain": [
              "['red', 'green', 'black', 'pink', 'white', 'eyes', 'orange']"
            ]
          },
          "metadata": {
            "tags": []
          },
          "execution_count": 6
        }
      ]
    },
    {
      "cell_type": "code",
      "metadata": {
        "colab": {
          "base_uri": "https://localhost:8080/"
        },
        "id": "EOauuPjzG5B0",
        "outputId": "09891803-6a31-4deb-83d6-1a3309339485"
      },
      "source": [
        "for letra in palavras_dic:\n",
        "  repeticoes = palavras.count (letra)\n",
        "  print ('Cor', letra, '-', repeticoes)\n",
        "\n"
      ],
      "execution_count": 7,
      "outputs": [
        {
          "output_type": "stream",
          "text": [
            "Cor red - 4\n",
            "Cor green - 4\n",
            "Cor black - 5\n",
            "Cor pink - 6\n",
            "Cor white - 5\n",
            "Cor eyes - 1\n",
            "Cor orange - 4\n"
          ],
          "name": "stdout"
        }
      ]
    }
  ]
}